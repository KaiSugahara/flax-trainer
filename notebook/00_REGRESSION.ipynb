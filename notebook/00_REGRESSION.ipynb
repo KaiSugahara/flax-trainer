{
 "cells": [
  {
   "cell_type": "code",
   "execution_count": 1,
   "metadata": {},
   "outputs": [],
   "source": [
    "%load_ext autoreload\n",
    "%autoreload 2"
   ]
  },
  {
   "cell_type": "code",
   "execution_count": 2,
   "metadata": {},
   "outputs": [],
   "source": [
    "import sys\n",
    "\n",
    "import optax\n",
    "import polars as pl\n",
    "from flax import nnx\n",
    "from sklearn.datasets import fetch_california_housing\n",
    "from sklearn.model_selection import train_test_split\n",
    "\n",
    "sys.path.append(\"/workspace\")\n",
    "from flax_trainer.evaluator import RegressionEvaluator\n",
    "from flax_trainer.loader import MiniBatchLoader\n",
    "from flax_trainer.loss_fn import mean_squared_error\n",
    "from flax_trainer.model.mlp import RegressionMLP\n",
    "from flax_trainer.trainer import Trainer"
   ]
  },
  {
   "cell_type": "code",
   "execution_count": 3,
   "metadata": {},
   "outputs": [],
   "source": [
    "housing = fetch_california_housing()\n",
    "train_dataset_df, test_dataset_df = train_test_split(\n",
    "    pl.from_numpy(data=housing.data, schema=housing.feature_names).with_columns(  # type: ignore\n",
    "        pl.Series(housing.target).alias(housing.target_names[0])  # type: ignore\n",
    "    ),\n",
    "    test_size=0.2,\n",
    "    random_state=0,\n",
    ")"
   ]
  },
  {
   "cell_type": "code",
   "execution_count": 4,
   "metadata": {},
   "outputs": [],
   "source": [
    "model = RegressionMLP(train_dataset_df.shape[1] - 1, [32, 16, 4, 2], 1, nnx.Rngs(0))\n",
    "train_loader = MiniBatchLoader(dataset_df=train_dataset_df, batch_size=512, rngs=nnx.Rngs(0))\n",
    "test_evaluator = RegressionEvaluator(dataset_df=test_dataset_df)"
   ]
  },
  {
   "cell_type": "code",
   "execution_count": 5,
   "metadata": {},
   "outputs": [
    {
     "name": "stdout",
     "output_type": "stream",
     "text": [
      "[TEST  000]: loss=69.95780944824219, metrics={'mse': 69.95780944824219}\n"
     ]
    },
    {
     "name": "stderr",
     "output_type": "stream",
     "text": [
      "[TRAIN 001]: 100%|██████████| 33/33 [00:00<00:00, 94.49it/s, batch_loss=5.4964595] \n"
     ]
    },
    {
     "name": "stdout",
     "output_type": "stream",
     "text": [
      "[TEST  001]: loss=6.54409646987915, metrics={'mse': 6.54409646987915}\n"
     ]
    },
    {
     "name": "stderr",
     "output_type": "stream",
     "text": [
      "[TRAIN 002]: 100%|██████████| 33/33 [00:00<00:00, 651.80it/s, batch_loss=5.1092644]\n"
     ]
    },
    {
     "name": "stdout",
     "output_type": "stream",
     "text": [
      "[TEST  002]: loss=5.6618971824646, metrics={'mse': 5.6618971824646}\n"
     ]
    },
    {
     "name": "stderr",
     "output_type": "stream",
     "text": [
      "[TRAIN 003]: 100%|██████████| 33/33 [00:00<00:00, 641.84it/s, batch_loss=2.053743]\n"
     ]
    },
    {
     "name": "stdout",
     "output_type": "stream",
     "text": [
      "[TEST  003]: loss=2.792478084564209, metrics={'mse': 2.792478084564209}\n"
     ]
    },
    {
     "name": "stderr",
     "output_type": "stream",
     "text": [
      "[TRAIN 004]: 100%|██████████| 33/33 [00:00<00:00, 617.15it/s, batch_loss=1.4365823]\n"
     ]
    },
    {
     "name": "stdout",
     "output_type": "stream",
     "text": [
      "[TEST  004]: loss=1.8629634380340576, metrics={'mse': 1.8629634380340576}\n"
     ]
    },
    {
     "name": "stderr",
     "output_type": "stream",
     "text": [
      "[TRAIN 005]: 100%|██████████| 33/33 [00:00<00:00, 608.74it/s, batch_loss=1.3979833]\n"
     ]
    },
    {
     "name": "stdout",
     "output_type": "stream",
     "text": [
      "[TEST  005]: loss=1.5767855644226074, metrics={'mse': 1.5767855644226074}\n"
     ]
    },
    {
     "name": "stderr",
     "output_type": "stream",
     "text": [
      "[TRAIN 006]: 100%|██████████| 33/33 [00:00<00:00, 637.01it/s, batch_loss=1.2941186]\n"
     ]
    },
    {
     "name": "stdout",
     "output_type": "stream",
     "text": [
      "[TEST  006]: loss=1.4899089336395264, metrics={'mse': 1.4899089336395264}\n"
     ]
    },
    {
     "name": "stderr",
     "output_type": "stream",
     "text": [
      "[TRAIN 007]: 100%|██████████| 33/33 [00:00<00:00, 608.28it/s, batch_loss=1.4245962]\n"
     ]
    },
    {
     "name": "stdout",
     "output_type": "stream",
     "text": [
      "[TEST  007]: loss=1.5455416440963745, metrics={'mse': 1.5455416440963745}\n"
     ]
    },
    {
     "name": "stderr",
     "output_type": "stream",
     "text": [
      "[TRAIN 008]: 100%|██████████| 33/33 [00:00<00:00, 637.92it/s, batch_loss=1.36414]\n"
     ]
    },
    {
     "name": "stdout",
     "output_type": "stream",
     "text": [
      "[TEST  008]: loss=1.452880859375, metrics={'mse': 1.452880859375}\n"
     ]
    },
    {
     "name": "stderr",
     "output_type": "stream",
     "text": [
      "[TRAIN 009]: 100%|██████████| 33/33 [00:00<00:00, 604.19it/s, batch_loss=1.1332653]\n"
     ]
    },
    {
     "name": "stdout",
     "output_type": "stream",
     "text": [
      "[TEST  009]: loss=1.396668553352356, metrics={'mse': 1.396668553352356}\n"
     ]
    },
    {
     "name": "stderr",
     "output_type": "stream",
     "text": [
      "[TRAIN 010]: 100%|██████████| 33/33 [00:00<00:00, 600.14it/s, batch_loss=1.209461]\n"
     ]
    },
    {
     "name": "stdout",
     "output_type": "stream",
     "text": [
      "[TEST  010]: loss=1.3831496238708496, metrics={'mse': 1.3831496238708496}\n"
     ]
    },
    {
     "name": "stderr",
     "output_type": "stream",
     "text": [
      "[TRAIN 011]: 100%|██████████| 33/33 [00:00<00:00, 630.33it/s, batch_loss=1.825509]\n"
     ]
    },
    {
     "name": "stdout",
     "output_type": "stream",
     "text": [
      "[TEST  011]: loss=1.362729787826538, metrics={'mse': 1.362729787826538}\n"
     ]
    },
    {
     "name": "stderr",
     "output_type": "stream",
     "text": [
      "[TRAIN 012]: 100%|██████████| 33/33 [00:00<00:00, 600.67it/s, batch_loss=1.458847]\n"
     ]
    },
    {
     "name": "stdout",
     "output_type": "stream",
     "text": [
      "[TEST  012]: loss=1.3359392881393433, metrics={'mse': 1.3359392881393433}\n"
     ]
    },
    {
     "name": "stderr",
     "output_type": "stream",
     "text": [
      "[TRAIN 013]: 100%|██████████| 33/33 [00:00<00:00, 619.19it/s, batch_loss=1.3124889]\n"
     ]
    },
    {
     "name": "stdout",
     "output_type": "stream",
     "text": [
      "[TEST  013]: loss=1.3195993900299072, metrics={'mse': 1.3195993900299072}\n"
     ]
    },
    {
     "name": "stderr",
     "output_type": "stream",
     "text": [
      "[TRAIN 014]: 100%|██████████| 33/33 [00:00<00:00, 617.62it/s, batch_loss=1.3559215]\n"
     ]
    },
    {
     "name": "stdout",
     "output_type": "stream",
     "text": [
      "[TEST  014]: loss=1.319619059562683, metrics={'mse': 1.319619059562683}\n"
     ]
    },
    {
     "name": "stderr",
     "output_type": "stream",
     "text": [
      "[TRAIN 015]: 100%|██████████| 33/33 [00:00<00:00, 631.77it/s, batch_loss=1.5402603]\n"
     ]
    },
    {
     "name": "stdout",
     "output_type": "stream",
     "text": [
      "[TEST  015]: loss=1.3320515155792236, metrics={'mse': 1.3320515155792236}\n"
     ]
    },
    {
     "name": "stderr",
     "output_type": "stream",
     "text": [
      "[TRAIN 016]: 100%|██████████| 33/33 [00:00<00:00, 630.81it/s, batch_loss=1.3136804]\n"
     ]
    },
    {
     "name": "stdout",
     "output_type": "stream",
     "text": [
      "[TEST  016]: loss=1.2950414419174194, metrics={'mse': 1.2950414419174194}\n"
     ]
    },
    {
     "name": "stderr",
     "output_type": "stream",
     "text": [
      "[TRAIN 017]: 100%|██████████| 33/33 [00:00<00:00, 615.22it/s, batch_loss=1.4038014]\n"
     ]
    },
    {
     "name": "stdout",
     "output_type": "stream",
     "text": [
      "[TEST  017]: loss=1.2775354385375977, metrics={'mse': 1.2775354385375977}\n"
     ]
    },
    {
     "name": "stderr",
     "output_type": "stream",
     "text": [
      "[TRAIN 018]: 100%|██████████| 33/33 [00:00<00:00, 593.91it/s, batch_loss=1.2930261]\n"
     ]
    },
    {
     "name": "stdout",
     "output_type": "stream",
     "text": [
      "[TEST  018]: loss=1.2538059949874878, metrics={'mse': 1.2538059949874878}\n"
     ]
    },
    {
     "name": "stderr",
     "output_type": "stream",
     "text": [
      "[TRAIN 019]: 100%|██████████| 33/33 [00:00<00:00, 625.83it/s, batch_loss=1.2121102]\n"
     ]
    },
    {
     "name": "stdout",
     "output_type": "stream",
     "text": [
      "[TEST  019]: loss=1.2387796640396118, metrics={'mse': 1.2387796640396118}\n"
     ]
    },
    {
     "name": "stderr",
     "output_type": "stream",
     "text": [
      "[TRAIN 020]: 100%|██████████| 33/33 [00:00<00:00, 631.47it/s, batch_loss=1.2322085]\n"
     ]
    },
    {
     "name": "stdout",
     "output_type": "stream",
     "text": [
      "[TEST  020]: loss=1.228780746459961, metrics={'mse': 1.228780746459961}\n"
     ]
    },
    {
     "name": "stderr",
     "output_type": "stream",
     "text": [
      "[TRAIN 021]: 100%|██████████| 33/33 [00:00<00:00, 628.94it/s, batch_loss=0.90739125]\n"
     ]
    },
    {
     "name": "stdout",
     "output_type": "stream",
     "text": [
      "[TEST  021]: loss=1.2016555070877075, metrics={'mse': 1.2016555070877075}\n"
     ]
    },
    {
     "name": "stderr",
     "output_type": "stream",
     "text": [
      "[TRAIN 022]: 100%|██████████| 33/33 [00:00<00:00, 630.29it/s, batch_loss=1.4209318]\n"
     ]
    },
    {
     "name": "stdout",
     "output_type": "stream",
     "text": [
      "[TEST  022]: loss=1.1864066123962402, metrics={'mse': 1.1864066123962402}\n"
     ]
    },
    {
     "name": "stderr",
     "output_type": "stream",
     "text": [
      "[TRAIN 023]: 100%|██████████| 33/33 [00:00<00:00, 605.79it/s, batch_loss=1.1080449]\n"
     ]
    },
    {
     "name": "stdout",
     "output_type": "stream",
     "text": [
      "[TEST  023]: loss=1.1748501062393188, metrics={'mse': 1.1748501062393188}\n"
     ]
    },
    {
     "name": "stderr",
     "output_type": "stream",
     "text": [
      "[TRAIN 024]: 100%|██████████| 33/33 [00:00<00:00, 629.65it/s, batch_loss=1.0827132]\n"
     ]
    },
    {
     "name": "stdout",
     "output_type": "stream",
     "text": [
      "[TEST  024]: loss=1.1553606986999512, metrics={'mse': 1.1553606986999512}\n"
     ]
    },
    {
     "name": "stderr",
     "output_type": "stream",
     "text": [
      "[TRAIN 025]: 100%|██████████| 33/33 [00:00<00:00, 619.81it/s, batch_loss=0.9466663]\n"
     ]
    },
    {
     "name": "stdout",
     "output_type": "stream",
     "text": [
      "[TEST  025]: loss=1.1238033771514893, metrics={'mse': 1.1238033771514893}\n"
     ]
    },
    {
     "name": "stderr",
     "output_type": "stream",
     "text": [
      "[TRAIN 026]: 100%|██████████| 33/33 [00:00<00:00, 631.36it/s, batch_loss=1.1592906]\n"
     ]
    },
    {
     "name": "stdout",
     "output_type": "stream",
     "text": [
      "[TEST  026]: loss=1.100164771080017, metrics={'mse': 1.100164771080017}\n"
     ]
    },
    {
     "name": "stderr",
     "output_type": "stream",
     "text": [
      "[TRAIN 027]: 100%|██████████| 33/33 [00:00<00:00, 632.45it/s, batch_loss=1.1622491]\n"
     ]
    },
    {
     "name": "stdout",
     "output_type": "stream",
     "text": [
      "[TEST  027]: loss=1.0822927951812744, metrics={'mse': 1.0822927951812744}\n"
     ]
    },
    {
     "name": "stderr",
     "output_type": "stream",
     "text": [
      "[TRAIN 028]: 100%|██████████| 33/33 [00:00<00:00, 621.53it/s, batch_loss=1.3485482]\n"
     ]
    },
    {
     "name": "stdout",
     "output_type": "stream",
     "text": [
      "[TEST  028]: loss=1.0435136556625366, metrics={'mse': 1.0435136556625366}\n"
     ]
    },
    {
     "name": "stderr",
     "output_type": "stream",
     "text": [
      "[TRAIN 029]: 100%|██████████| 33/33 [00:00<00:00, 626.10it/s, batch_loss=0.89076626]\n"
     ]
    },
    {
     "name": "stdout",
     "output_type": "stream",
     "text": [
      "[TEST  029]: loss=1.0270001888275146, metrics={'mse': 1.0270001888275146}\n"
     ]
    },
    {
     "name": "stderr",
     "output_type": "stream",
     "text": [
      "[TRAIN 030]: 100%|██████████| 33/33 [00:00<00:00, 624.07it/s, batch_loss=0.9466839]\n"
     ]
    },
    {
     "name": "stdout",
     "output_type": "stream",
     "text": [
      "[TEST  030]: loss=0.9725115299224854, metrics={'mse': 0.9725115299224854}\n"
     ]
    },
    {
     "name": "stderr",
     "output_type": "stream",
     "text": [
      "[TRAIN 031]: 100%|██████████| 33/33 [00:00<00:00, 359.14it/s, batch_loss=0.9790628]\n"
     ]
    },
    {
     "name": "stdout",
     "output_type": "stream",
     "text": [
      "[TEST  031]: loss=0.9285380840301514, metrics={'mse': 0.9285380840301514}\n"
     ]
    },
    {
     "name": "stderr",
     "output_type": "stream",
     "text": [
      "[TRAIN 032]: 100%|██████████| 33/33 [00:00<00:00, 624.57it/s, batch_loss=1.0009487]\n"
     ]
    },
    {
     "name": "stdout",
     "output_type": "stream",
     "text": [
      "[TEST  032]: loss=0.9496695399284363, metrics={'mse': 0.9496695399284363}\n"
     ]
    },
    {
     "name": "stderr",
     "output_type": "stream",
     "text": [
      "[TRAIN 033]: 100%|██████████| 33/33 [00:00<00:00, 528.84it/s, batch_loss=0.9695524]\n"
     ]
    },
    {
     "name": "stdout",
     "output_type": "stream",
     "text": [
      "[TEST  033]: loss=0.8595136404037476, metrics={'mse': 0.8595136404037476}\n"
     ]
    },
    {
     "name": "stderr",
     "output_type": "stream",
     "text": [
      "[TRAIN 034]: 100%|██████████| 33/33 [00:00<00:00, 618.19it/s, batch_loss=0.87037337]\n"
     ]
    },
    {
     "name": "stdout",
     "output_type": "stream",
     "text": [
      "[TEST  034]: loss=0.8998928070068359, metrics={'mse': 0.8998928070068359}\n"
     ]
    },
    {
     "name": "stderr",
     "output_type": "stream",
     "text": [
      "[TRAIN 035]: 100%|██████████| 33/33 [00:00<00:00, 609.69it/s, batch_loss=0.8215214]\n"
     ]
    },
    {
     "name": "stdout",
     "output_type": "stream",
     "text": [
      "[TEST  035]: loss=0.7850393652915955, metrics={'mse': 0.7850393652915955}\n"
     ]
    },
    {
     "name": "stderr",
     "output_type": "stream",
     "text": [
      "[TRAIN 036]: 100%|██████████| 33/33 [00:00<00:00, 620.38it/s, batch_loss=0.67198384]\n"
     ]
    },
    {
     "name": "stdout",
     "output_type": "stream",
     "text": [
      "[TEST  036]: loss=0.7623736262321472, metrics={'mse': 0.7623736262321472}\n"
     ]
    },
    {
     "name": "stderr",
     "output_type": "stream",
     "text": [
      "[TRAIN 037]: 100%|██████████| 33/33 [00:00<00:00, 612.76it/s, batch_loss=0.9225741]\n"
     ]
    },
    {
     "name": "stdout",
     "output_type": "stream",
     "text": [
      "[TEST  037]: loss=0.8671588897705078, metrics={'mse': 0.8671588897705078}\n"
     ]
    },
    {
     "name": "stderr",
     "output_type": "stream",
     "text": [
      "[TRAIN 038]: 100%|██████████| 33/33 [00:00<00:00, 600.31it/s, batch_loss=0.6830254]\n"
     ]
    },
    {
     "name": "stdout",
     "output_type": "stream",
     "text": [
      "[TEST  038]: loss=0.7081394791603088, metrics={'mse': 0.7081394791603088}\n"
     ]
    },
    {
     "name": "stderr",
     "output_type": "stream",
     "text": [
      "[TRAIN 039]: 100%|██████████| 33/33 [00:00<00:00, 622.91it/s, batch_loss=0.47315803]\n"
     ]
    },
    {
     "name": "stdout",
     "output_type": "stream",
     "text": [
      "[TEST  039]: loss=0.7726365923881531, metrics={'mse': 0.7726365923881531}\n"
     ]
    },
    {
     "name": "stderr",
     "output_type": "stream",
     "text": [
      "[TRAIN 040]: 100%|██████████| 33/33 [00:00<00:00, 647.90it/s, batch_loss=0.54812706]\n"
     ]
    },
    {
     "name": "stdout",
     "output_type": "stream",
     "text": [
      "[TEST  040]: loss=0.6759756207466125, metrics={'mse': 0.6759756207466125}\n"
     ]
    },
    {
     "name": "stderr",
     "output_type": "stream",
     "text": [
      "[TRAIN 041]: 100%|██████████| 33/33 [00:00<00:00, 630.40it/s, batch_loss=0.46781164]\n"
     ]
    },
    {
     "name": "stdout",
     "output_type": "stream",
     "text": [
      "[TEST  041]: loss=0.6632670760154724, metrics={'mse': 0.6632670760154724}\n"
     ]
    },
    {
     "name": "stderr",
     "output_type": "stream",
     "text": [
      "[TRAIN 042]: 100%|██████████| 33/33 [00:00<00:00, 620.44it/s, batch_loss=0.7207941]\n"
     ]
    },
    {
     "name": "stdout",
     "output_type": "stream",
     "text": [
      "[TEST  042]: loss=0.6461907625198364, metrics={'mse': 0.6461907625198364}\n"
     ]
    },
    {
     "name": "stderr",
     "output_type": "stream",
     "text": [
      "[TRAIN 043]: 100%|██████████| 33/33 [00:00<00:00, 615.76it/s, batch_loss=0.62912834]\n"
     ]
    },
    {
     "name": "stdout",
     "output_type": "stream",
     "text": [
      "[TEST  043]: loss=0.7795215249061584, metrics={'mse': 0.7795215249061584}\n"
     ]
    },
    {
     "name": "stderr",
     "output_type": "stream",
     "text": [
      "[TRAIN 044]: 100%|██████████| 33/33 [00:00<00:00, 565.38it/s, batch_loss=0.7285481]\n"
     ]
    },
    {
     "name": "stdout",
     "output_type": "stream",
     "text": [
      "[TEST  044]: loss=0.6324975490570068, metrics={'mse': 0.6324975490570068}\n"
     ]
    },
    {
     "name": "stderr",
     "output_type": "stream",
     "text": [
      "[TRAIN 045]: 100%|██████████| 33/33 [00:00<00:00, 619.22it/s, batch_loss=0.96120083]\n"
     ]
    },
    {
     "name": "stdout",
     "output_type": "stream",
     "text": [
      "[TEST  045]: loss=0.7085521817207336, metrics={'mse': 0.7085521817207336}\n"
     ]
    },
    {
     "name": "stderr",
     "output_type": "stream",
     "text": [
      "[TRAIN 046]: 100%|██████████| 33/33 [00:00<00:00, 621.31it/s, batch_loss=0.4581238]\n"
     ]
    },
    {
     "name": "stdout",
     "output_type": "stream",
     "text": [
      "[TEST  046]: loss=0.62704998254776, metrics={'mse': 0.62704998254776}\n"
     ]
    },
    {
     "name": "stderr",
     "output_type": "stream",
     "text": [
      "[TRAIN 047]: 100%|██████████| 33/33 [00:00<00:00, 360.71it/s, batch_loss=0.517988]\n"
     ]
    },
    {
     "name": "stdout",
     "output_type": "stream",
     "text": [
      "[TEST  047]: loss=0.7350544929504395, metrics={'mse': 0.7350544929504395}\n"
     ]
    },
    {
     "name": "stderr",
     "output_type": "stream",
     "text": [
      "[TRAIN 048]: 100%|██████████| 33/33 [00:00<00:00, 628.29it/s, batch_loss=0.72112006]\n"
     ]
    },
    {
     "name": "stdout",
     "output_type": "stream",
     "text": [
      "[TEST  048]: loss=0.7458639740943909, metrics={'mse': 0.7458639740943909}\n"
     ]
    },
    {
     "name": "stderr",
     "output_type": "stream",
     "text": [
      "[TRAIN 049]: 100%|██████████| 33/33 [00:00<00:00, 597.23it/s, batch_loss=0.43982118]\n"
     ]
    },
    {
     "name": "stdout",
     "output_type": "stream",
     "text": [
      "[TEST  049]: loss=0.6496586203575134, metrics={'mse': 0.6496586203575134}\n"
     ]
    },
    {
     "name": "stderr",
     "output_type": "stream",
     "text": [
      "[TRAIN 050]: 100%|██████████| 33/33 [00:00<00:00, 507.35it/s, batch_loss=0.6592014]\n"
     ]
    },
    {
     "name": "stdout",
     "output_type": "stream",
     "text": [
      "[TEST  050]: loss=0.6130358576774597, metrics={'mse': 0.6130358576774597}\n"
     ]
    },
    {
     "name": "stderr",
     "output_type": "stream",
     "text": [
      "[TRAIN 051]: 100%|██████████| 33/33 [00:00<00:00, 625.71it/s, batch_loss=0.46203598]\n"
     ]
    },
    {
     "name": "stdout",
     "output_type": "stream",
     "text": [
      "[TEST  051]: loss=0.6085271239280701, metrics={'mse': 0.6085271239280701}\n"
     ]
    },
    {
     "name": "stderr",
     "output_type": "stream",
     "text": [
      "[TRAIN 052]: 100%|██████████| 33/33 [00:00<00:00, 343.73it/s, batch_loss=0.48669547]\n"
     ]
    },
    {
     "name": "stdout",
     "output_type": "stream",
     "text": [
      "[TEST  052]: loss=0.6259031295776367, metrics={'mse': 0.6259031295776367}\n"
     ]
    },
    {
     "name": "stderr",
     "output_type": "stream",
     "text": [
      "[TRAIN 053]: 100%|██████████| 33/33 [00:00<00:00, 601.09it/s, batch_loss=0.62545073]\n"
     ]
    },
    {
     "name": "stdout",
     "output_type": "stream",
     "text": [
      "[TEST  053]: loss=0.613401472568512, metrics={'mse': 0.613401472568512}\n"
     ]
    },
    {
     "name": "stderr",
     "output_type": "stream",
     "text": [
      "[TRAIN 054]: 100%|██████████| 33/33 [00:00<00:00, 612.24it/s, batch_loss=0.75011396]\n"
     ]
    },
    {
     "name": "stdout",
     "output_type": "stream",
     "text": [
      "[TEST  054]: loss=0.6261976361274719, metrics={'mse': 0.6261976361274719}\n"
     ]
    },
    {
     "name": "stderr",
     "output_type": "stream",
     "text": [
      "[TRAIN 055]: 100%|██████████| 33/33 [00:00<00:00, 599.20it/s, batch_loss=0.64530957]\n"
     ]
    },
    {
     "name": "stdout",
     "output_type": "stream",
     "text": [
      "[TEST  055]: loss=0.6033914685249329, metrics={'mse': 0.6033914685249329}\n"
     ]
    },
    {
     "name": "stderr",
     "output_type": "stream",
     "text": [
      "[TRAIN 056]: 100%|██████████| 33/33 [00:00<00:00, 600.53it/s, batch_loss=0.44484204]\n"
     ]
    },
    {
     "name": "stdout",
     "output_type": "stream",
     "text": [
      "[TEST  056]: loss=0.6100307106971741, metrics={'mse': 0.6100307106971741}\n"
     ]
    },
    {
     "name": "stderr",
     "output_type": "stream",
     "text": [
      "[TRAIN 057]: 100%|██████████| 33/33 [00:00<00:00, 602.02it/s, batch_loss=0.5762122]\n"
     ]
    },
    {
     "name": "stdout",
     "output_type": "stream",
     "text": [
      "[TEST  057]: loss=0.6247549057006836, metrics={'mse': 0.6247549057006836}\n"
     ]
    },
    {
     "name": "stderr",
     "output_type": "stream",
     "text": [
      "[TRAIN 058]: 100%|██████████| 33/33 [00:00<00:00, 601.16it/s, batch_loss=0.65936756]\n"
     ]
    },
    {
     "name": "stdout",
     "output_type": "stream",
     "text": [
      "[TEST  058]: loss=0.6025345921516418, metrics={'mse': 0.6025345921516418}\n"
     ]
    },
    {
     "name": "stderr",
     "output_type": "stream",
     "text": [
      "[TRAIN 059]: 100%|██████████| 33/33 [00:00<00:00, 627.36it/s, batch_loss=0.52248704]\n"
     ]
    },
    {
     "name": "stdout",
     "output_type": "stream",
     "text": [
      "[TEST  059]: loss=0.6039100289344788, metrics={'mse': 0.6039100289344788}\n"
     ]
    },
    {
     "name": "stderr",
     "output_type": "stream",
     "text": [
      "[TRAIN 060]: 100%|██████████| 33/33 [00:00<00:00, 637.22it/s, batch_loss=0.6943023]\n"
     ]
    },
    {
     "name": "stdout",
     "output_type": "stream",
     "text": [
      "[TEST  060]: loss=0.5875662565231323, metrics={'mse': 0.5875662565231323}\n"
     ]
    },
    {
     "name": "stderr",
     "output_type": "stream",
     "text": [
      "[TRAIN 061]: 100%|██████████| 33/33 [00:00<00:00, 354.34it/s, batch_loss=0.36497062]\n"
     ]
    },
    {
     "name": "stdout",
     "output_type": "stream",
     "text": [
      "[TEST  061]: loss=0.6242859959602356, metrics={'mse': 0.6242859959602356}\n"
     ]
    },
    {
     "name": "stderr",
     "output_type": "stream",
     "text": [
      "[TRAIN 062]: 100%|██████████| 33/33 [00:00<00:00, 637.24it/s, batch_loss=0.74231356]\n"
     ]
    },
    {
     "name": "stdout",
     "output_type": "stream",
     "text": [
      "[TEST  062]: loss=0.615252673625946, metrics={'mse': 0.615252673625946}\n"
     ]
    },
    {
     "name": "stderr",
     "output_type": "stream",
     "text": [
      "[TRAIN 063]: 100%|██████████| 33/33 [00:00<00:00, 605.31it/s, batch_loss=0.6440625]\n"
     ]
    },
    {
     "name": "stdout",
     "output_type": "stream",
     "text": [
      "[TEST  063]: loss=0.6004959940910339, metrics={'mse': 0.6004959940910339}\n"
     ]
    },
    {
     "name": "stderr",
     "output_type": "stream",
     "text": [
      "[TRAIN 064]: 100%|██████████| 33/33 [00:00<00:00, 422.18it/s, batch_loss=0.606089]\n"
     ]
    },
    {
     "name": "stdout",
     "output_type": "stream",
     "text": [
      "[TEST  064]: loss=0.6048641800880432, metrics={'mse': 0.6048641800880432}\n"
     ]
    },
    {
     "name": "stderr",
     "output_type": "stream",
     "text": [
      "[TRAIN 065]: 100%|██████████| 33/33 [00:00<00:00, 624.00it/s, batch_loss=0.78683496]"
     ]
    },
    {
     "name": "stdout",
     "output_type": "stream",
     "text": [
      "[TEST  065]: loss=0.5949965119361877, metrics={'mse': 0.5949965119361877}\n"
     ]
    },
    {
     "name": "stderr",
     "output_type": "stream",
     "text": [
      "\n",
      "[TRAIN 066]: 100%|██████████| 33/33 [00:00<00:00, 574.97it/s, batch_loss=0.63641846]\n"
     ]
    },
    {
     "name": "stdout",
     "output_type": "stream",
     "text": [
      "[TEST  066]: loss=0.5981246829032898, metrics={'mse': 0.5981246829032898}\n"
     ]
    },
    {
     "name": "stderr",
     "output_type": "stream",
     "text": [
      "[TRAIN 067]: 100%|██████████| 33/33 [00:00<00:00, 633.92it/s, batch_loss=0.85438067]\n"
     ]
    },
    {
     "name": "stdout",
     "output_type": "stream",
     "text": [
      "[TEST  067]: loss=0.6092846989631653, metrics={'mse': 0.6092846989631653}\n"
     ]
    },
    {
     "name": "stderr",
     "output_type": "stream",
     "text": [
      "[TRAIN 068]: 100%|██████████| 33/33 [00:00<00:00, 595.41it/s, batch_loss=0.564083]\n"
     ]
    },
    {
     "name": "stdout",
     "output_type": "stream",
     "text": [
      "[TEST  068]: loss=0.619128942489624, metrics={'mse': 0.619128942489624}\n"
     ]
    },
    {
     "name": "stderr",
     "output_type": "stream",
     "text": [
      "[TRAIN 069]: 100%|██████████| 33/33 [00:00<00:00, 636.89it/s, batch_loss=0.3845288]\n"
     ]
    },
    {
     "name": "stdout",
     "output_type": "stream",
     "text": [
      "[TEST  069]: loss=0.6422792077064514, metrics={'mse': 0.6422792077064514}\n"
     ]
    },
    {
     "name": "stderr",
     "output_type": "stream",
     "text": [
      "[TRAIN 070]: 100%|██████████| 33/33 [00:00<00:00, 586.03it/s, batch_loss=0.63241506]\n"
     ]
    },
    {
     "name": "stdout",
     "output_type": "stream",
     "text": [
      "[TEST  070]: loss=0.6144530177116394, metrics={'mse': 0.6144530177116394}\n"
     ]
    }
   ],
   "source": [
    "# Training\n",
    "\n",
    "trainer = Trainer(\n",
    "    model=model,\n",
    "    optimizer=optax.adam(learning_rate=0.001),\n",
    "    train_loader=train_loader,\n",
    "    loss_fn=mean_squared_error,\n",
    "    test_evaluator=test_evaluator,\n",
    "    early_stopping_patience=10,\n",
    "    epoch_num=512,\n",
    ")\n",
    "trainer = trainer.fit()"
   ]
  },
  {
   "cell_type": "code",
   "execution_count": 6,
   "metadata": {},
   "outputs": [
    {
     "data": {
      "text/plain": [
       "Array([[1.9849969],\n",
       "       [2.1086004],\n",
       "       [1.9600796],\n",
       "       [2.944981 ],\n",
       "       [1.1065688],\n",
       "       [1.7676227],\n",
       "       [1.6479461],\n",
       "       [4.7380037],\n",
       "       [3.5829756],\n",
       "       [2.6884596]], dtype=float32)"
      ]
     },
     "execution_count": 6,
     "metadata": {},
     "output_type": "execute_result"
    }
   ],
   "source": [
    "# Inference\n",
    "\n",
    "test_loader = MiniBatchLoader(dataset_df=test_dataset_df, batch_size=512, rngs=nnx.Rngs(0))\n",
    "for Xs, y in test_loader:\n",
    "    break\n",
    "trainer.best_model(*Xs)[:10]"
   ]
  }
 ],
 "metadata": {
  "kernelspec": {
   "display_name": "flax-trainer-xS3fZVNL-py3.11",
   "language": "python",
   "name": "python3"
  },
  "language_info": {
   "codemirror_mode": {
    "name": "ipython",
    "version": 3
   },
   "file_extension": ".py",
   "mimetype": "text/x-python",
   "name": "python",
   "nbconvert_exporter": "python",
   "pygments_lexer": "ipython3",
   "version": "3.11.11"
  }
 },
 "nbformat": 4,
 "nbformat_minor": 2
}
