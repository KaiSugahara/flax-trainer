{
 "cells": [
  {
   "cell_type": "code",
   "execution_count": 1,
   "metadata": {},
   "outputs": [],
   "source": [
    "%load_ext autoreload\n",
    "%autoreload 2"
   ]
  },
  {
   "cell_type": "code",
   "execution_count": 2,
   "metadata": {},
   "outputs": [],
   "source": [
    "import sys\n",
    "\n",
    "import optax\n",
    "import polars as pl\n",
    "from flax import nnx\n",
    "from sklearn.datasets import fetch_california_housing\n",
    "from sklearn.model_selection import train_test_split\n",
    "\n",
    "sys.path.append(\"/workspace\")\n",
    "from flax_trainer.evaluator import RegressionEvaluator\n",
    "from flax_trainer.loader import MiniBatchLoader\n",
    "from flax_trainer.loss_fn import mean_squared_error\n",
    "from flax_trainer.model.mlp import RegressionMLP\n",
    "from flax_trainer.trainer import Trainer"
   ]
  },
  {
   "cell_type": "code",
   "execution_count": 3,
   "metadata": {},
   "outputs": [],
   "source": [
    "housing = fetch_california_housing()\n",
    "df_TRAIN_DATA, df_TEST_DATA = train_test_split(\n",
    "    pl.from_numpy(data=housing.data, schema=housing.feature_names).with_columns(  # type: ignore\n",
    "        pl.Series(housing.target).alias(housing.target_names[0])  # type: ignore\n",
    "    ),\n",
    "    test_size=0.2,\n",
    "    random_state=0,\n",
    ")"
   ]
  },
  {
   "cell_type": "code",
   "execution_count": 4,
   "metadata": {},
   "outputs": [],
   "source": [
    "model = RegressionMLP(df_TRAIN_DATA.shape[1] - 1, [32, 16, 4, 2], 1, nnx.Rngs(0))"
   ]
  },
  {
   "cell_type": "code",
   "execution_count": 5,
   "metadata": {},
   "outputs": [
    {
     "name": "stdout",
     "output_type": "stream",
     "text": [
      "[TEST  000] loss=69.95780944824219\n"
     ]
    },
    {
     "name": "stderr",
     "output_type": "stream",
     "text": [
      "[TRAIN 001]: 100%|██████████| 33/33 [00:00<00:00, 107.53it/s, batch_loss=4.8399506]\n"
     ]
    },
    {
     "name": "stdout",
     "output_type": "stream",
     "text": [
      "[TEST  001] loss=10.040655136108398\n"
     ]
    },
    {
     "name": "stderr",
     "output_type": "stream",
     "text": [
      "[TRAIN 002]: 100%|██████████| 33/33 [00:00<00:00, 573.58it/s, batch_loss=4.3720737]\n"
     ]
    },
    {
     "name": "stdout",
     "output_type": "stream",
     "text": [
      "[TEST  002] loss=7.081933498382568\n"
     ]
    },
    {
     "name": "stderr",
     "output_type": "stream",
     "text": [
      "[TRAIN 003]: 100%|██████████| 33/33 [00:00<00:00, 567.42it/s, batch_loss=5.3580875]\n"
     ]
    },
    {
     "name": "stdout",
     "output_type": "stream",
     "text": [
      "[TEST  003] loss=5.573915958404541\n"
     ]
    },
    {
     "name": "stderr",
     "output_type": "stream",
     "text": [
      "[TRAIN 004]: 100%|██████████| 33/33 [00:00<00:00, 543.03it/s, batch_loss=4.7945204]\n"
     ]
    },
    {
     "name": "stdout",
     "output_type": "stream",
     "text": [
      "[TEST  004] loss=5.5116167068481445\n"
     ]
    },
    {
     "name": "stderr",
     "output_type": "stream",
     "text": [
      "[TRAIN 005]: 100%|██████████| 33/33 [00:00<00:00, 570.97it/s, batch_loss=5.106104]\n"
     ]
    },
    {
     "name": "stdout",
     "output_type": "stream",
     "text": [
      "[TEST  005] loss=5.547776699066162\n"
     ]
    },
    {
     "name": "stderr",
     "output_type": "stream",
     "text": [
      "[TRAIN 006]: 100%|██████████| 33/33 [00:00<00:00, 582.57it/s, batch_loss=5.4647923]\n"
     ]
    },
    {
     "name": "stdout",
     "output_type": "stream",
     "text": [
      "[TEST  006] loss=5.579135417938232\n"
     ]
    },
    {
     "name": "stderr",
     "output_type": "stream",
     "text": [
      "[TRAIN 007]: 100%|██████████| 33/33 [00:00<00:00, 576.01it/s, batch_loss=5.686099]\n"
     ]
    },
    {
     "name": "stdout",
     "output_type": "stream",
     "text": [
      "[TEST  007] loss=5.604259490966797\n"
     ]
    },
    {
     "name": "stderr",
     "output_type": "stream",
     "text": [
      "[TRAIN 008]: 100%|██████████| 33/33 [00:00<00:00, 523.08it/s, batch_loss=5.046925]\n"
     ]
    },
    {
     "name": "stdout",
     "output_type": "stream",
     "text": [
      "[TEST  008] loss=5.623812675476074\n"
     ]
    },
    {
     "name": "stderr",
     "output_type": "stream",
     "text": [
      "[TRAIN 009]: 100%|██████████| 33/33 [00:00<00:00, 592.48it/s, batch_loss=4.2932835]\n"
     ]
    },
    {
     "name": "stdout",
     "output_type": "stream",
     "text": [
      "[TEST  009] loss=5.637764930725098\n"
     ]
    },
    {
     "name": "stderr",
     "output_type": "stream",
     "text": [
      "[TRAIN 010]: 100%|██████████| 33/33 [00:00<00:00, 583.01it/s, batch_loss=5.31737]\n"
     ]
    },
    {
     "name": "stdout",
     "output_type": "stream",
     "text": [
      "[TEST  010] loss=5.651158332824707\n"
     ]
    },
    {
     "name": "stderr",
     "output_type": "stream",
     "text": [
      "[TRAIN 011]: 100%|██████████| 33/33 [00:00<00:00, 574.61it/s, batch_loss=5.755681]\n"
     ]
    },
    {
     "name": "stdout",
     "output_type": "stream",
     "text": [
      "[TEST  011] loss=5.664552211761475\n"
     ]
    },
    {
     "name": "stderr",
     "output_type": "stream",
     "text": [
      "[TRAIN 012]: 100%|██████████| 33/33 [00:00<00:00, 337.96it/s, batch_loss=5.1685014]\n"
     ]
    },
    {
     "name": "stdout",
     "output_type": "stream",
     "text": [
      "[TEST  012] loss=5.677972793579102\n"
     ]
    },
    {
     "name": "stderr",
     "output_type": "stream",
     "text": [
      "[TRAIN 013]: 100%|██████████| 33/33 [00:00<00:00, 566.18it/s, batch_loss=5.034153]\n"
     ]
    },
    {
     "name": "stdout",
     "output_type": "stream",
     "text": [
      "[TEST  013] loss=5.6914448738098145\n"
     ]
    },
    {
     "name": "stderr",
     "output_type": "stream",
     "text": [
      "[TRAIN 014]: 100%|██████████| 33/33 [00:00<00:00, 576.00it/s, batch_loss=5.3188295]\n"
     ]
    },
    {
     "name": "stdout",
     "output_type": "stream",
     "text": [
      "[TEST  014] loss=5.704908847808838\n"
     ]
    }
   ],
   "source": [
    "trainer = Trainer(\n",
    "    model=model,\n",
    "    optimizer=optax.adam(learning_rate=0.0001),\n",
    "    train_loader=MiniBatchLoader(df_DATA=df_TRAIN_DATA, batch_size=512, seed=0),\n",
    "    loss_fn=mean_squared_error,\n",
    "    test_evaluator=RegressionEvaluator(df_TEST_DATA),\n",
    "    early_stopping_patience=10,\n",
    "    epoch_num=512,\n",
    ")\n",
    "trainer = trainer.fit()"
   ]
  }
 ],
 "metadata": {
  "kernelspec": {
   "display_name": "flax-trainer-xS3fZVNL-py3.12",
   "language": "python",
   "name": "python3"
  },
  "language_info": {
   "codemirror_mode": {
    "name": "ipython",
    "version": 3
   },
   "file_extension": ".py",
   "mimetype": "text/x-python",
   "name": "python",
   "nbconvert_exporter": "python",
   "pygments_lexer": "ipython3",
   "version": "3.12.7"
  }
 },
 "nbformat": 4,
 "nbformat_minor": 2
}
