{
 "cells": [
  {
   "cell_type": "code",
   "execution_count": 1,
   "metadata": {},
   "outputs": [],
   "source": [
    "%load_ext autoreload\n",
    "%autoreload 2"
   ]
  },
  {
   "cell_type": "code",
   "execution_count": 2,
   "metadata": {},
   "outputs": [
    {
     "data": {
      "text/plain": [
       "'cpu'"
      ]
     },
     "execution_count": 2,
     "metadata": {},
     "output_type": "execute_result"
    }
   ],
   "source": [
    "import sys\n",
    "\n",
    "import jax\n",
    "import mlflow\n",
    "import optax\n",
    "import polars as pl\n",
    "from flax import nnx\n",
    "from sklearn.datasets import fetch_california_housing\n",
    "from sklearn.model_selection import train_test_split\n",
    "\n",
    "sys.path.append(\"/workspace\")\n",
    "from flax_trainer.evaluator import RegressionEvaluator\n",
    "from flax_trainer.loader import MiniBatchLoader\n",
    "from flax_trainer.loss_fn import mean_squared_error\n",
    "from flax_trainer.model.mlp import RegressionMLP\n",
    "from flax_trainer.trainer import Trainer\n",
    "\n",
    "jax.default_backend()"
   ]
  },
  {
   "cell_type": "code",
   "execution_count": 3,
   "metadata": {},
   "outputs": [],
   "source": [
    "housing = fetch_california_housing()\n",
    "train_dataset_df, valid_dataset_df = train_test_split(\n",
    "    pl.from_numpy(data=housing.data, schema=housing.feature_names).with_columns(  # type: ignore\n",
    "        pl.Series(housing.target).alias(housing.target_names[0])  # type: ignore\n",
    "    ),\n",
    "    test_size=0.2,\n",
    "    random_state=0,\n",
    ")"
   ]
  },
  {
   "cell_type": "code",
   "execution_count": 4,
   "metadata": {},
   "outputs": [],
   "source": [
    "model = RegressionMLP(train_dataset_df.shape[1] - 1, [32, 16, 4, 2], 1, nnx.Rngs(0))\n",
    "train_loader = MiniBatchLoader(dataset_df=train_dataset_df, batch_size=512, rngs=nnx.Rngs(0))\n",
    "valid_evaluator = RegressionEvaluator(dataset_df=valid_dataset_df)"
   ]
  },
  {
   "cell_type": "code",
   "execution_count": 5,
   "metadata": {},
   "outputs": [
    {
     "name": "stdout",
     "output_type": "stream",
     "text": [
      "[VALID 000]: loss=69.95780944824219, metrics={'mse': 69.95780944824219}\n"
     ]
    },
    {
     "name": "stderr",
     "output_type": "stream",
     "text": [
      "[TRAIN 001]: 100%|██████████| 33/33 [00:00<00:00, 133.92it/s, batch_loss=6.2312946]\n"
     ]
    },
    {
     "name": "stdout",
     "output_type": "stream",
     "text": [
      "[VALID 001]: loss=6.14644193649292, metrics={'mse': 6.14644193649292}\n"
     ]
    },
    {
     "name": "stderr",
     "output_type": "stream",
     "text": [
      "[TRAIN 002]: 100%|██████████| 33/33 [00:00<00:00, 1187.25it/s, batch_loss=4.9024467]\n"
     ]
    },
    {
     "name": "stdout",
     "output_type": "stream",
     "text": [
      "[VALID 002]: loss=4.766097068786621, metrics={'mse': 4.766097068786621}\n"
     ]
    },
    {
     "name": "stderr",
     "output_type": "stream",
     "text": [
      "[TRAIN 003]: 100%|██████████| 33/33 [00:00<00:00, 1192.32it/s, batch_loss=1.7030346]\n"
     ]
    },
    {
     "name": "stdout",
     "output_type": "stream",
     "text": [
      "[VALID 003]: loss=1.5000752210617065, metrics={'mse': 1.5000752210617065}\n"
     ]
    },
    {
     "name": "stderr",
     "output_type": "stream",
     "text": [
      "[TRAIN 004]: 100%|██████████| 33/33 [00:00<00:00, 1229.08it/s, batch_loss=1.2950621]\n"
     ]
    },
    {
     "name": "stdout",
     "output_type": "stream",
     "text": [
      "[VALID 004]: loss=1.3764324188232422, metrics={'mse': 1.3764324188232422}\n"
     ]
    },
    {
     "name": "stderr",
     "output_type": "stream",
     "text": [
      "[TRAIN 005]: 100%|██████████| 33/33 [00:00<00:00, 1285.89it/s, batch_loss=1.5802534]\n"
     ]
    },
    {
     "name": "stdout",
     "output_type": "stream",
     "text": [
      "[VALID 005]: loss=1.3614575862884521, metrics={'mse': 1.3614575862884521}\n"
     ]
    },
    {
     "name": "stderr",
     "output_type": "stream",
     "text": [
      "[TRAIN 006]: 100%|██████████| 33/33 [00:00<00:00, 1312.31it/s, batch_loss=1.3466582]\n"
     ]
    },
    {
     "name": "stdout",
     "output_type": "stream",
     "text": [
      "[VALID 006]: loss=1.349909782409668, metrics={'mse': 1.349909782409668}\n"
     ]
    },
    {
     "name": "stderr",
     "output_type": "stream",
     "text": [
      "[TRAIN 007]: 100%|██████████| 33/33 [00:00<00:00, 1253.29it/s, batch_loss=1.2202652]\n"
     ]
    },
    {
     "name": "stdout",
     "output_type": "stream",
     "text": [
      "[VALID 007]: loss=1.3333450555801392, metrics={'mse': 1.3333450555801392}\n"
     ]
    },
    {
     "name": "stderr",
     "output_type": "stream",
     "text": [
      "[TRAIN 008]: 100%|██████████| 33/33 [00:00<00:00, 1269.65it/s, batch_loss=1.2851977]\n"
     ]
    },
    {
     "name": "stdout",
     "output_type": "stream",
     "text": [
      "[VALID 008]: loss=1.3204874992370605, metrics={'mse': 1.3204874992370605}\n"
     ]
    },
    {
     "name": "stderr",
     "output_type": "stream",
     "text": [
      "[TRAIN 009]: 100%|██████████| 33/33 [00:00<00:00, 1331.19it/s, batch_loss=1.3062027]\n"
     ]
    },
    {
     "name": "stdout",
     "output_type": "stream",
     "text": [
      "[VALID 009]: loss=1.31205153465271, metrics={'mse': 1.31205153465271}\n"
     ]
    },
    {
     "name": "stderr",
     "output_type": "stream",
     "text": [
      "[TRAIN 010]: 100%|██████████| 33/33 [00:00<00:00, 1227.43it/s, batch_loss=1.3359232]\n"
     ]
    },
    {
     "name": "stdout",
     "output_type": "stream",
     "text": [
      "[VALID 010]: loss=1.3009798526763916, metrics={'mse': 1.3009798526763916}\n"
     ]
    },
    {
     "name": "stderr",
     "output_type": "stream",
     "text": [
      "[TRAIN 011]: 100%|██████████| 33/33 [00:00<00:00, 1248.68it/s, batch_loss=1.2600975]\n"
     ]
    },
    {
     "name": "stdout",
     "output_type": "stream",
     "text": [
      "[VALID 011]: loss=1.2889819145202637, metrics={'mse': 1.2889819145202637}\n"
     ]
    },
    {
     "name": "stderr",
     "output_type": "stream",
     "text": [
      "[TRAIN 012]: 100%|██████████| 33/33 [00:00<00:00, 1268.80it/s, batch_loss=1.255688]\n"
     ]
    },
    {
     "name": "stdout",
     "output_type": "stream",
     "text": [
      "[VALID 012]: loss=1.28468918800354, metrics={'mse': 1.28468918800354}\n"
     ]
    },
    {
     "name": "stderr",
     "output_type": "stream",
     "text": [
      "[TRAIN 013]: 100%|██████████| 33/33 [00:00<00:00, 1283.20it/s, batch_loss=0.9540032]\n"
     ]
    },
    {
     "name": "stdout",
     "output_type": "stream",
     "text": [
      "[VALID 013]: loss=1.2757188081741333, metrics={'mse': 1.2757188081741333}\n"
     ]
    },
    {
     "name": "stderr",
     "output_type": "stream",
     "text": [
      "[TRAIN 014]: 100%|██████████| 33/33 [00:00<00:00, 1298.42it/s, batch_loss=1.3892536]\n"
     ]
    },
    {
     "name": "stdout",
     "output_type": "stream",
     "text": [
      "[VALID 014]: loss=1.2745472192764282, metrics={'mse': 1.2745472192764282}\n"
     ]
    },
    {
     "name": "stderr",
     "output_type": "stream",
     "text": [
      "[TRAIN 015]: 100%|██████████| 33/33 [00:00<00:00, 1278.11it/s, batch_loss=1.3798119]\n"
     ]
    },
    {
     "name": "stdout",
     "output_type": "stream",
     "text": [
      "[VALID 015]: loss=1.2663953304290771, metrics={'mse': 1.2663953304290771}\n"
     ]
    },
    {
     "name": "stderr",
     "output_type": "stream",
     "text": [
      "[TRAIN 016]: 100%|██████████| 33/33 [00:00<00:00, 1301.34it/s, batch_loss=1.3083072]\n"
     ]
    },
    {
     "name": "stdout",
     "output_type": "stream",
     "text": [
      "[VALID 016]: loss=1.2644426822662354, metrics={'mse': 1.2644426822662354}\n"
     ]
    },
    {
     "name": "stderr",
     "output_type": "stream",
     "text": [
      "[TRAIN 017]: 100%|██████████| 33/33 [00:00<00:00, 1264.12it/s, batch_loss=1.7287483]\n"
     ]
    },
    {
     "name": "stdout",
     "output_type": "stream",
     "text": [
      "[VALID 017]: loss=1.2382045984268188, metrics={'mse': 1.2382045984268188}\n"
     ]
    },
    {
     "name": "stderr",
     "output_type": "stream",
     "text": [
      "[TRAIN 018]: 100%|██████████| 33/33 [00:00<00:00, 1229.62it/s, batch_loss=1.0596294]\n"
     ]
    },
    {
     "name": "stdout",
     "output_type": "stream",
     "text": [
      "[VALID 018]: loss=1.235413670539856, metrics={'mse': 1.235413670539856}\n"
     ]
    },
    {
     "name": "stderr",
     "output_type": "stream",
     "text": [
      "[TRAIN 019]: 100%|██████████| 33/33 [00:00<00:00, 1114.87it/s, batch_loss=1.3083704]\n"
     ]
    },
    {
     "name": "stdout",
     "output_type": "stream",
     "text": [
      "[VALID 019]: loss=1.230867862701416, metrics={'mse': 1.230867862701416}\n"
     ]
    },
    {
     "name": "stderr",
     "output_type": "stream",
     "text": [
      "[TRAIN 020]: 100%|██████████| 33/33 [00:00<00:00, 1285.28it/s, batch_loss=1.1092379]\n"
     ]
    },
    {
     "name": "stdout",
     "output_type": "stream",
     "text": [
      "[VALID 020]: loss=1.2115864753723145, metrics={'mse': 1.2115864753723145}\n"
     ]
    },
    {
     "name": "stderr",
     "output_type": "stream",
     "text": [
      "[TRAIN 021]: 100%|██████████| 33/33 [00:00<00:00, 1290.84it/s, batch_loss=1.1625865]\n"
     ]
    },
    {
     "name": "stdout",
     "output_type": "stream",
     "text": [
      "[VALID 021]: loss=1.2026088237762451, metrics={'mse': 1.2026088237762451}\n"
     ]
    },
    {
     "name": "stderr",
     "output_type": "stream",
     "text": [
      "[TRAIN 022]: 100%|██████████| 33/33 [00:00<00:00, 1264.73it/s, batch_loss=1.6750107]\n"
     ]
    },
    {
     "name": "stdout",
     "output_type": "stream",
     "text": [
      "[VALID 022]: loss=1.198635220527649, metrics={'mse': 1.198635220527649}\n"
     ]
    },
    {
     "name": "stderr",
     "output_type": "stream",
     "text": [
      "[TRAIN 023]: 100%|██████████| 33/33 [00:00<00:00, 1339.89it/s, batch_loss=1.2359855]\n"
     ]
    },
    {
     "name": "stdout",
     "output_type": "stream",
     "text": [
      "[VALID 023]: loss=1.206591248512268, metrics={'mse': 1.206591248512268}\n"
     ]
    },
    {
     "name": "stderr",
     "output_type": "stream",
     "text": [
      "[TRAIN 024]: 100%|██████████| 33/33 [00:00<00:00, 1392.03it/s, batch_loss=1.3601649]\n"
     ]
    },
    {
     "name": "stdout",
     "output_type": "stream",
     "text": [
      "[VALID 024]: loss=1.181082844734192, metrics={'mse': 1.181082844734192}\n"
     ]
    },
    {
     "name": "stderr",
     "output_type": "stream",
     "text": [
      "[TRAIN 025]: 100%|██████████| 33/33 [00:00<00:00, 1332.17it/s, batch_loss=1.289645]\n"
     ]
    },
    {
     "name": "stdout",
     "output_type": "stream",
     "text": [
      "[VALID 025]: loss=1.1564401388168335, metrics={'mse': 1.1564401388168335}\n"
     ]
    },
    {
     "name": "stderr",
     "output_type": "stream",
     "text": [
      "[TRAIN 026]: 100%|██████████| 33/33 [00:00<00:00, 1132.48it/s, batch_loss=1.1484969]\n"
     ]
    },
    {
     "name": "stdout",
     "output_type": "stream",
     "text": [
      "[VALID 026]: loss=1.1474781036376953, metrics={'mse': 1.1474781036376953}\n"
     ]
    },
    {
     "name": "stderr",
     "output_type": "stream",
     "text": [
      "[TRAIN 027]: 100%|██████████| 33/33 [00:00<00:00, 1292.92it/s, batch_loss=0.8981936]"
     ]
    },
    {
     "name": "stdout",
     "output_type": "stream",
     "text": [
      "[VALID 027]: loss=1.13017737865448, metrics={'mse': 1.13017737865448}\n"
     ]
    },
    {
     "name": "stderr",
     "output_type": "stream",
     "text": [
      "\n",
      "[TRAIN 028]: 100%|██████████| 33/33 [00:00<00:00, 1271.34it/s, batch_loss=1.2062454]"
     ]
    },
    {
     "name": "stdout",
     "output_type": "stream",
     "text": [
      "[VALID 028]: loss=1.110532522201538, metrics={'mse': 1.110532522201538}\n"
     ]
    },
    {
     "name": "stderr",
     "output_type": "stream",
     "text": [
      "\n",
      "[TRAIN 029]: 100%|██████████| 33/33 [00:00<00:00, 1296.43it/s, batch_loss=1.1491947]\n"
     ]
    },
    {
     "name": "stdout",
     "output_type": "stream",
     "text": [
      "[VALID 029]: loss=1.1185104846954346, metrics={'mse': 1.1185104846954346}\n"
     ]
    },
    {
     "name": "stderr",
     "output_type": "stream",
     "text": [
      "[TRAIN 030]: 100%|██████████| 33/33 [00:00<00:00, 1350.56it/s, batch_loss=1.326332]\n"
     ]
    },
    {
     "name": "stdout",
     "output_type": "stream",
     "text": [
      "[VALID 030]: loss=1.077314853668213, metrics={'mse': 1.077314853668213}\n"
     ]
    },
    {
     "name": "stderr",
     "output_type": "stream",
     "text": [
      "[TRAIN 031]: 100%|██████████| 33/33 [00:00<00:00, 1290.07it/s, batch_loss=0.84462917]\n"
     ]
    },
    {
     "name": "stdout",
     "output_type": "stream",
     "text": [
      "[VALID 031]: loss=1.0745527744293213, metrics={'mse': 1.0745527744293213}\n"
     ]
    },
    {
     "name": "stderr",
     "output_type": "stream",
     "text": [
      "[TRAIN 032]: 100%|██████████| 33/33 [00:00<00:00, 1257.75it/s, batch_loss=1.1046765]\n"
     ]
    },
    {
     "name": "stdout",
     "output_type": "stream",
     "text": [
      "[VALID 032]: loss=1.0242905616760254, metrics={'mse': 1.0242905616760254}\n"
     ]
    },
    {
     "name": "stderr",
     "output_type": "stream",
     "text": [
      "[TRAIN 033]: 100%|██████████| 33/33 [00:00<00:00, 1205.90it/s, batch_loss=0.9506]\n"
     ]
    },
    {
     "name": "stdout",
     "output_type": "stream",
     "text": [
      "[VALID 033]: loss=0.9979826211929321, metrics={'mse': 0.9979826211929321}\n"
     ]
    },
    {
     "name": "stderr",
     "output_type": "stream",
     "text": [
      "[TRAIN 034]: 100%|██████████| 33/33 [00:00<00:00, 1277.05it/s, batch_loss=1.0952853]\n"
     ]
    },
    {
     "name": "stdout",
     "output_type": "stream",
     "text": [
      "[VALID 034]: loss=0.9620071649551392, metrics={'mse': 0.9620071649551392}\n"
     ]
    },
    {
     "name": "stderr",
     "output_type": "stream",
     "text": [
      "[TRAIN 035]: 100%|██████████| 33/33 [00:00<00:00, 1277.94it/s, batch_loss=0.89672625]\n"
     ]
    },
    {
     "name": "stdout",
     "output_type": "stream",
     "text": [
      "[VALID 035]: loss=0.9341732263565063, metrics={'mse': 0.9341732263565063}\n"
     ]
    },
    {
     "name": "stderr",
     "output_type": "stream",
     "text": [
      "[TRAIN 036]: 100%|██████████| 33/33 [00:00<00:00, 1233.59it/s, batch_loss=1.0559292]\n"
     ]
    },
    {
     "name": "stdout",
     "output_type": "stream",
     "text": [
      "[VALID 036]: loss=0.9058147072792053, metrics={'mse': 0.9058147072792053}\n"
     ]
    },
    {
     "name": "stderr",
     "output_type": "stream",
     "text": [
      "[TRAIN 037]: 100%|██████████| 33/33 [00:00<00:00, 1289.70it/s, batch_loss=0.8707306]\n"
     ]
    },
    {
     "name": "stdout",
     "output_type": "stream",
     "text": [
      "[VALID 037]: loss=0.823212742805481, metrics={'mse': 0.823212742805481}\n"
     ]
    },
    {
     "name": "stderr",
     "output_type": "stream",
     "text": [
      "[TRAIN 038]: 100%|██████████| 33/33 [00:00<00:00, 1276.72it/s, batch_loss=0.8484332]\n"
     ]
    },
    {
     "name": "stdout",
     "output_type": "stream",
     "text": [
      "[VALID 038]: loss=1.0790104866027832, metrics={'mse': 1.0790104866027832}\n"
     ]
    },
    {
     "name": "stderr",
     "output_type": "stream",
     "text": [
      "[TRAIN 039]: 100%|██████████| 33/33 [00:00<00:00, 1366.78it/s, batch_loss=0.86986935]"
     ]
    },
    {
     "name": "stdout",
     "output_type": "stream",
     "text": [
      "[VALID 039]: loss=0.741835355758667, metrics={'mse': 0.741835355758667}\n"
     ]
    },
    {
     "name": "stderr",
     "output_type": "stream",
     "text": [
      "\n",
      "[TRAIN 040]: 100%|██████████| 33/33 [00:00<00:00, 1349.36it/s, batch_loss=0.86522675]\n"
     ]
    },
    {
     "name": "stdout",
     "output_type": "stream",
     "text": [
      "[VALID 040]: loss=0.7160562872886658, metrics={'mse': 0.7160562872886658}\n"
     ]
    },
    {
     "name": "stderr",
     "output_type": "stream",
     "text": [
      "[TRAIN 041]: 100%|██████████| 33/33 [00:00<00:00, 1124.42it/s, batch_loss=0.7596467]\n"
     ]
    },
    {
     "name": "stdout",
     "output_type": "stream",
     "text": [
      "[VALID 041]: loss=0.6995048522949219, metrics={'mse': 0.6995048522949219}\n"
     ]
    },
    {
     "name": "stderr",
     "output_type": "stream",
     "text": [
      "[TRAIN 042]: 100%|██████████| 33/33 [00:00<00:00, 1251.25it/s, batch_loss=0.47158062]\n"
     ]
    },
    {
     "name": "stdout",
     "output_type": "stream",
     "text": [
      "[VALID 042]: loss=0.7222909927368164, metrics={'mse': 0.7222909927368164}\n"
     ]
    },
    {
     "name": "stderr",
     "output_type": "stream",
     "text": [
      "[TRAIN 043]: 100%|██████████| 33/33 [00:00<00:00, 1448.49it/s, batch_loss=0.69241726]"
     ]
    },
    {
     "name": "stdout",
     "output_type": "stream",
     "text": [
      "[VALID 043]: loss=0.7191174030303955, metrics={'mse': 0.7191174030303955}\n"
     ]
    },
    {
     "name": "stderr",
     "output_type": "stream",
     "text": [
      "\n",
      "[TRAIN 044]: 100%|██████████| 33/33 [00:00<00:00, 1371.64it/s, batch_loss=0.7557936]\n"
     ]
    },
    {
     "name": "stdout",
     "output_type": "stream",
     "text": [
      "[VALID 044]: loss=0.700877845287323, metrics={'mse': 0.700877845287323}\n"
     ]
    },
    {
     "name": "stderr",
     "output_type": "stream",
     "text": [
      "[TRAIN 045]: 100%|██████████| 33/33 [00:00<00:00, 1099.13it/s, batch_loss=0.7585491]\n"
     ]
    },
    {
     "name": "stdout",
     "output_type": "stream",
     "text": [
      "[VALID 045]: loss=0.9418597221374512, metrics={'mse': 0.9418597221374512}\n"
     ]
    },
    {
     "name": "stderr",
     "output_type": "stream",
     "text": [
      "[TRAIN 046]: 100%|██████████| 33/33 [00:00<00:00, 1320.27it/s, batch_loss=0.5145011]\n"
     ]
    },
    {
     "name": "stdout",
     "output_type": "stream",
     "text": [
      "[VALID 046]: loss=0.9173449873924255, metrics={'mse': 0.9173449873924255}\n"
     ]
    },
    {
     "name": "stderr",
     "output_type": "stream",
     "text": [
      "[TRAIN 047]: 100%|██████████| 33/33 [00:00<00:00, 1323.53it/s, batch_loss=0.683028]\n"
     ]
    },
    {
     "name": "stdout",
     "output_type": "stream",
     "text": [
      "[VALID 047]: loss=0.8877587914466858, metrics={'mse': 0.8877587914466858}\n"
     ]
    },
    {
     "name": "stderr",
     "output_type": "stream",
     "text": [
      "[TRAIN 048]: 100%|██████████| 33/33 [00:00<00:00, 1387.81it/s, batch_loss=0.6028898]\n"
     ]
    },
    {
     "name": "stdout",
     "output_type": "stream",
     "text": [
      "[VALID 048]: loss=0.8417936563491821, metrics={'mse': 0.8417936563491821}\n"
     ]
    },
    {
     "name": "stderr",
     "output_type": "stream",
     "text": [
      "[TRAIN 049]: 100%|██████████| 33/33 [00:00<00:00, 1304.03it/s, batch_loss=0.46167946]\n"
     ]
    },
    {
     "name": "stdout",
     "output_type": "stream",
     "text": [
      "[VALID 049]: loss=0.784108579158783, metrics={'mse': 0.784108579158783}\n"
     ]
    },
    {
     "name": "stderr",
     "output_type": "stream",
     "text": [
      "[TRAIN 050]: 100%|██████████| 33/33 [00:00<00:00, 1352.90it/s, batch_loss=0.4787763]\n"
     ]
    },
    {
     "name": "stdout",
     "output_type": "stream",
     "text": [
      "[VALID 050]: loss=0.7463776469230652, metrics={'mse': 0.7463776469230652}\n"
     ]
    },
    {
     "name": "stderr",
     "output_type": "stream",
     "text": [
      "[TRAIN 051]: 100%|██████████| 33/33 [00:00<00:00, 1280.53it/s, batch_loss=0.6046458]\n"
     ]
    },
    {
     "name": "stdout",
     "output_type": "stream",
     "text": [
      "[VALID 051]: loss=0.7534943222999573, metrics={'mse': 0.7534943222999573}\n"
     ]
    }
   ],
   "source": [
    "# Training\n",
    "\n",
    "# mlflow.set_tracking_uri(uri=\"http://localhost:8080\")\n",
    "# mlflow.set_experiment(\"REGRESSION\")\n",
    "\n",
    "with mlflow.start_run() as run:\n",
    "    mlflow.log_param(\"my\", \"param\")\n",
    "\n",
    "    trainer = Trainer(\n",
    "        model=model,\n",
    "        optimizer=optax.adam(learning_rate=0.001),\n",
    "        train_loader=train_loader,\n",
    "        loss_fn=mean_squared_error,\n",
    "        valid_evaluator=valid_evaluator,\n",
    "        early_stopping_patience=10,\n",
    "        epoch_num=512,\n",
    "        active_run=run,\n",
    "    )\n",
    "    trainer = trainer.fit()"
   ]
  },
  {
   "cell_type": "code",
   "execution_count": 6,
   "metadata": {},
   "outputs": [
    {
     "data": {
      "text/plain": [
       "Array([[2.0212548],\n",
       "       [2.1939273],\n",
       "       [2.0397067],\n",
       "       [2.655089 ],\n",
       "       [1.4569345],\n",
       "       [1.9170147],\n",
       "       [1.8301634],\n",
       "       [4.645258 ],\n",
       "       [3.3913505],\n",
       "       [2.4202533]], dtype=float32)"
      ]
     },
     "execution_count": 6,
     "metadata": {},
     "output_type": "execute_result"
    }
   ],
   "source": [
    "# Inference\n",
    "\n",
    "test_loader = MiniBatchLoader(dataset_df=valid_dataset_df, batch_size=512, rngs=nnx.Rngs(0))\n",
    "test_loader.setup_epoch()\n",
    "for Xs, y in test_loader:\n",
    "    break\n",
    "trainer.best_model(*Xs)[:10]"
   ]
  }
 ],
 "metadata": {
  "kernelspec": {
   "display_name": "Python 3",
   "language": "python",
   "name": "python3"
  },
  "language_info": {
   "codemirror_mode": {
    "name": "ipython",
    "version": 3
   },
   "file_extension": ".py",
   "mimetype": "text/x-python",
   "name": "python",
   "nbconvert_exporter": "python",
   "pygments_lexer": "ipython3",
   "version": "3.11.11"
  }
 },
 "nbformat": 4,
 "nbformat_minor": 2
}
